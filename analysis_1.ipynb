{
 "cells": [
  {
   "cell_type": "code",
   "execution_count": 119,
   "metadata": {},
   "outputs": [],
   "source": [
    "import numpy as np\n",
    "import pandas as pd\n",
    "import matplotlib.pyplot as plt\n",
    "from sklearn.linear_model import LinearRegression\n",
    "from sklearn.preprocessing import StandardScaler\n",
    "from sklearn.model_selection import train_test_split, StratifiedKFold\n",
    "from sklearn.metrics import f1_score"
   ]
  },
  {
   "cell_type": "code",
   "execution_count": 120,
   "metadata": {},
   "outputs": [
    {
     "name": "stderr",
     "output_type": "stream",
     "text": [
      "/Library/Frameworks/Python.framework/Versions/3.6/lib/python3.6/site-packages/ipykernel_launcher.py:8: SettingWithCopyWarning: \n",
      "A value is trying to be set on a copy of a slice from a DataFrame\n",
      "\n",
      "See the caveats in the documentation: http://pandas.pydata.org/pandas-docs/stable/indexing.html#indexing-view-versus-copy\n",
      "  \n"
     ]
    }
   ],
   "source": [
    "df = pd.read_excel('dataset(column duplication app, version.alireza).xls')\n",
    "initial_pain = df['Pain Level - Initial']\n",
    "onehr_pain = df['Pain Level - After 1 hour']\n",
    "y = np.zeros((df.shape[0],))\n",
    "X = np.zeros((df.shape[0],2))\n",
    "for i in range(len(X)):\n",
    "    if type(onehr_pain[i]) == str:\n",
    "        onehr_pain[i] = 0\n",
    "    y[i] = abs(initial_pain[i] - onehr_pain[i])\n",
    "    X[i,0], X[i,1] = initial_pain[i], onehr_pain[i]\n",
    "y[np.isnan(y)] = 0.0\n",
    "X[np.isnan(X)] = 0.0\n",
    "sc = StandardScaler()\n",
    "X = sc.fit_transform(X)"
   ]
  },
  {
   "cell_type": "code",
   "execution_count": 121,
   "metadata": {},
   "outputs": [],
   "source": [
    "def getScore(clf, X, y):\n",
    "    skf = StratifiedKFold(n_splits=10, shuffle=False, random_state=10)\n",
    "    scores = []\n",
    "    for train_index, test_index in skf.split(X, y):\n",
    "        X_train, X_test, y_train, y_test = X[train_index], X[test_index], y[train_index], y[test_index]\n",
    "        clf.fit(X_train, y_train)\n",
    "        scores.append(clf.score(X_test, y_test) * 10.0)\n",
    "    return round(sum(scores), 2)"
   ]
  },
  {
   "cell_type": "code",
   "execution_count": 172,
   "metadata": {},
   "outputs": [],
   "source": [
    "def plotAccuracy(acc1, acc2, acc3):\n",
    "    colors = ['blue', 'red', 'green']\n",
    "    labels = ['Model Accuracy', 'f1 score', 'Stratified 10-Fold']\n",
    "    index = np.arange(len(labels))\n",
    "    plotter = plt.bar(index, [acc1, acc2, acc3])\n",
    "    plotter[0].set_color('r'), plotter[1].set_color('b'), plotter[2].set_color('y')\n",
    "    plt.xlabel('Algorithms', fontsize=10)\n",
    "    plt.ylabel('Algorithms\\'s Scores', fontsize=10)\n",
    "    plt.xticks(index, labels, fontsize=10, rotation=30)\n",
    "    plt.ylim((0, 100))\n",
    "    plt.title('Accuracy Scores')\n",
    "    plt.legend((plotter[0], plotter[1], plotter[2]), (acc1, acc2, acc3))\n",
    "    plt.savefig('Accuracy Scores', dpi=300)\n",
    "    plt.show()"
   ]
  },
  {
   "cell_type": "code",
   "execution_count": 173,
   "metadata": {},
   "outputs": [
    {
     "name": "stderr",
     "output_type": "stream",
     "text": [
      "/Library/Frameworks/Python.framework/Versions/3.6/lib/python3.6/site-packages/sklearn/model_selection/_split.py:657: Warning: The least populated class in y has only 2 members, which is too few. The minimum number of members in any class cannot be less than n_splits=10.\n",
      "  % (min_groups, self.n_splits)), Warning)\n"
     ]
    },
    {
     "data": {
      "image/png": "[encoded data removed]",
      "text/plain": [
       "<Figure size 432x288 with 1 Axes>"
      ]
     },
     "metadata": {
      "needs_background": "light"
     },
     "output_type": "display_data"
    }
   ],
   "source": [
    "X_train, X_test, y_train, y_test = train_test_split(X, y, random_state=10, test_size=0.3, stratify=y)\n",
    "lr_model = LinearRegression(n_jobs=-1)\n",
    "lr_model.fit(X_train, y_train)\n",
    "y_pred = np.rint(lr_model.predict(X_test))\n",
    "score = round(lr_model.score(X_test, y_test)*100,2)\n",
    "f1 = round(f1_score(y_test, y_pred, average='micro')*100,2)\n",
    "stratified_score = getScore(lr_model, X, y)\n",
    "plotAccuracy(score, f1, stratified_score)"
   ]
  },
  {
   "cell_type": "code",
   "execution_count": null,
   "metadata": {},
   "outputs": [],
   "source": []
  }
 ],
 "metadata": {
  "kernelspec": {
   "display_name": "Python 3",
   "language": "python",
   "name": "python3"
  },
  "language_info": {
   "codemirror_mode": {
    "name": "ipython",
    "version": 3
   },
   "file_extension": ".py",
   "mimetype": "text/x-python",
   "name": "python",
   "nbconvert_exporter": "python",
   "pygments_lexer": "ipython3",
   "version": "3.6.0"
  }
 },
 "nbformat": 4,
 "nbformat_minor": 2
}
