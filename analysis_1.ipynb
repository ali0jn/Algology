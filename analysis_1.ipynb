{
 "cells": [
  {
   "cell_type": "code",
   "execution_count": 7,
   "metadata": {},
   "outputs": [],
   "source": [
    "import numpy as np\n",
    "import pandas as pd\n",
    "import matplotlib.pyplot as plt\n",
    "from sklearn.linear_model import LinearRegression\n",
    "from sklearn.preprocessing import StandardScaler\n",
    "from sklearn.model_selection import train_test_split\n",
    "from sklearn.metrics import mean_absolute_error, mean_squared_error, r2_score\n",
    "from sklearn.pipeline import make_pipeline\n",
    "import warnings\n",
    "warnings.filterwarnings(\"ignore\")"
   ]
  },
  {
   "cell_type": "code",
   "execution_count": 8,
   "metadata": {},
   "outputs": [],
   "source": [
    "df = pd.read_excel('dataset(column duplication app, version.alireza).xls')\n",
    "initial_pain = df['Pain Level - Initial']\n",
    "onehr_pain = df['Pain Level - After 1 hour']\n",
    "X = df[['Age','Height', 'Weight', 'Pain Level - Initial', 'Time', 'Radiation Dose', 'Citanest % 2 (cc)', 'Iohexol 300 mg/ml (cc)']]\n",
    "y = np.array(abs(initial_pain - onehr_pain))\n",
    "X.fillna(0, inplace=True)"
   ]
  },
  {
   "cell_type": "code",
   "execution_count": 9,
   "metadata": {},
   "outputs": [],
   "source": [
    "def plotErrorScores(error1, error2, error3, filename):\n",
    "    labels = ['MAE', 'MSE', 'R2']\n",
    "    index = np.arange(len(labels))\n",
    "    plotter = plt.bar(index, [error1, error2, error3])\n",
    "    plotter[0].set_color('r'), plotter[1].set_color('b'), plotter[2].set_color('y')\n",
    "    plt.xlabel('Error Algorithms', fontsize=10)\n",
    "    plt.ylabel('Error Algorithms\\'s Scores', fontsize=10)\n",
    "    plt.xticks(index, labels, fontsize=10, rotation=30)\n",
    "    plt.ylim((0, 5))\n",
    "    plt.title('Error Scores')\n",
    "    plt.legend((plotter[0], plotter[1], plotter[2]), (error1, error2, error3))\n",
    "    plt.savefig(filename, dpi=300, bbox_inches='tight')\n",
    "    plt.show()"
   ]
  },
  {
   "cell_type": "markdown",
   "metadata": {},
   "source": [
    "### Baseline Approach: Model based on numerical values, NaN replaced by zero"
   ]
  },
  {
   "cell_type": "code",
   "execution_count": 10,
   "metadata": {},
   "outputs": [
    {
     "data": {
      "image/png": "[encoded data removed]",
      "text/plain": [
       "<Figure size 432x288 with 1 Axes>"
      ]
     },
     "metadata": {
      "needs_background": "light"
     },
     "output_type": "display_data"
    }
   ],
   "source": [
    "X = np.array(X)\n",
    "y[np.isnan(y)] = 0.0\n",
    "pipe_lr = make_pipeline(StandardScaler(), LinearRegression(n_jobs=-1))\n",
    "X_train, X_test, y_train, y_test = train_test_split(X, y, random_state=0, stratify=y, test_size=0.3)\n",
    "pipe_lr.fit(X_train, y_train)\n",
    "y_pred = pipe_lr.predict(X_test)\n",
    "mae = round(mean_absolute_error(y_test, y_pred),3)\n",
    "mse = round(mean_squared_error(y_test, y_pred),3)\n",
    "r2 = round(r2_score(y_test, y_pred),3)\n",
    "plotErrorScores(mae, mse, r2, 'error scores (baseline app, nan replaced by 0)')"
   ]
  },
  {
   "cell_type": "code",
   "execution_count": null,
   "metadata": {},
   "outputs": [],
   "source": []
  }
 ],
 "metadata": {
  "kernelspec": {
   "display_name": "Python 3",
   "language": "python",
   "name": "python3"
  },
  "language_info": {
   "codemirror_mode": {
    "name": "ipython",
    "version": 3
   },
   "file_extension": ".py",
   "mimetype": "text/x-python",
   "name": "python",
   "nbconvert_exporter": "python",
   "pygments_lexer": "ipython3",
   "version": "3.7.3"
  }
 },
 "nbformat": 4,
 "nbformat_minor": 2
}
