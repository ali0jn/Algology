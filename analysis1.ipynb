{
 "cells": [
  {
   "cell_type": "code",
   "execution_count": 146,
   "metadata": {},
   "outputs": [],
   "source": [
    "import numpy as np\n",
    "import pandas as pd"
   ]
  },
  {
   "cell_type": "code",
   "execution_count": 175,
   "metadata": {},
   "outputs": [],
   "source": [
    "df = pd.read_excel('algology_dataset.xls').iloc[:863, :]\n",
    "df = df.rename(columns = {'Diagnosis':'Diagnosis_1', 'R/L':'R/L_1', 'Procedure':'Procedure_1'}) \n",
    "\n",
    "\n",
    "df.insert(8, 'Diagnosis_2', df['Diagnosis_1'])\n",
    "for i in range(len(df['Diagnosis_1'])):\n",
    "    if type(df['Diagnosis_1'].iloc[i]) == float: continue\n",
    "    splitted = df['Diagnosis_1'].iloc[i].split('+')\n",
    "    splitted_2 = df['Diagnosis_1'].iloc[i].split('/')\n",
    "    if len(splitted) == 2:\n",
    "        df['Diagnosis_1'].iloc[i] = splitted[0]\n",
    "        df['Diagnosis_2'].iloc[i] = splitted[1]\n",
    "    elif len(splitted_2) == 2:\n",
    "        df['Diagnosis_1'].iloc[i] = splitted_2[0]\n",
    "        df['Diagnosis_2'].iloc[i] = splitted_2[1]\n",
    "\n",
    "df['Diagnosis_1'] = df['Diagnosis_1'].str.upper()\n",
    "df['Diagnosis_2'] = df['Diagnosis_2'].str.upper()\n",
    "df['Diagnosis_1'] = df['Diagnosis_1'].str.strip()\n",
    "df['Diagnosis_2'] = df['Diagnosis_2'].str.strip()\n",
    "df['Diagnosis_1'] = df['Diagnosis_1'].replace('[.]', '', regex=True)\n",
    "df['Diagnosis_2'] = df['Diagnosis_2'].replace('[.]', '', regex=True)\n",
    "\n",
    "'''\n",
    "df.insert(10, 'R/L_2', df['R/L_1'])\n",
    "df.insert(11, 'R/L_3', df['R/L_1'])\n",
    "for i in range(len(df['R/L_1'])):\n",
    "    if type(df['R/L_1'].iloc[i]) == float: continue\n",
    "    splitted = df['R/L_1'].iloc[i].split('+')\n",
    "    if len(splitted) == 2:\n",
    "        df['R/L_1'].iloc[i] = splitted[0]\n",
    "        df['R/L_2'].iloc[i] = splitted[1]\n",
    "    if len(splitted) == 3:\n",
    "        df['R/L_1'].iloc[i] = splitted[0]\n",
    "        df['R/L_2'].iloc[i] = splitted[1]\n",
    "        df['R/L_3'].iloc[i] = splitted[2]\n",
    "\n",
    "df['R/L_1'] = df['R/L_1'].str.upper()\n",
    "df['R/L_2'] = df['R/L_2'].str.upper()\n",
    "df['R/L_3'] = df['R/L_3'].str.upper()\n",
    "df['R/L_1'] = df['R/L_1'].str.strip()\n",
    "df['R/L_2'] = df['R/L_2'].str.strip()\n",
    "df['R/L_3'] = df['R/L_3'].str.strip()\n",
    "df['R/L_1'] = df['R/L_1'].replace('[.:]', '', regex=True)\n",
    "df['R/L_2'] = df['R/L_2'].replace('[.:]', '', regex=True)\n",
    "df['R/L_3'] = df['R/L_3'].replace('[.:]', '', regex=True)\n",
    "df['R/L_1'] = df['R/L_1'].replace(('ORT HAT','ORTHAT','ORT'), 'ORTA HAT')\n",
    "df['R/L_2'] = df['R/L_2'].replace(('ORT HAT','ORTHAT','ORT'), 'ORTA HAT')\n",
    "df['R/L_3'] = df['R/L_3'].replace(('ORT HAT','ORTHAT','ORT'), 'ORTA HAT')\n",
    "'''\n",
    "\n",
    "# for i in range(len(df['Procedure_1'])):\n",
    "#     if type(df['Procedure_1'].iloc[i]) == float: continue\n",
    "#     splitted = df['Procedure_1'].iloc[i].split('+')\n",
    "#     if len(splitted)==2: print('d')\n",
    "\n",
    "# df['Procedure'] = df['Procedure'].str.upper()\n",
    "# df['Procedure'] = df['Procedure'].str.strip()\n",
    "# df['Procedure'] = df['Procedure'].replace('[.]', '', regex=True)\n",
    "# print(set(df['Procedure']), len(set(df['Procedure'])))\n",
    "\n",
    "\n",
    "for i in range(len(df['Age'])):\n",
    "    if len(str(df['Age'].iloc[i])) == 6:\n",
    "        df['Age'].iloc[i] = 2018 - df['Age'].iloc[i]\n",
    "df.to_excel(r'F:\\Machine Learning\\Projects\\Algology\\dataset(partially cleaned, alireza).xls')"
   ]
  },
  {
   "cell_type": "code",
   "execution_count": null,
   "metadata": {},
   "outputs": [],
   "source": []
  }
 ],
 "metadata": {
  "kernelspec": {
   "display_name": "Python 3",
   "language": "python",
   "name": "python3"
  },
  "language_info": {
   "codemirror_mode": {
    "name": "ipython",
    "version": 3
   },
   "file_extension": ".py",
   "mimetype": "text/x-python",
   "name": "python",
   "nbconvert_exporter": "python",
   "pygments_lexer": "ipython3",
   "version": "3.7.3"
  }
 },
 "nbformat": 4,
 "nbformat_minor": 2
}
